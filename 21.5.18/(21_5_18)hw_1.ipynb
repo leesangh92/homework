{
  "nbformat": 4,
  "nbformat_minor": 0,
  "metadata": {
    "colab": {
      "name": "(21.5.18)hw-1.ipynb의 사본",
      "provenance": [],
      "authorship_tag": "ABX9TyMbxM2rH8fPwrLxqjF89usi",
      "include_colab_link": true
    },
    "kernelspec": {
      "name": "python3",
      "display_name": "Python 3"
    },
    "language_info": {
      "name": "python"
    }
  },
  "cells": [
    {
      "cell_type": "markdown",
      "metadata": {
        "id": "view-in-github",
        "colab_type": "text"
      },
      "source": [
        "<a href=\"https://colab.research.google.com/github/leesangh92/homework/blob/main/(21_5_18)hw_1.ipynb\" target=\"_parent\"><img src=\"https://colab.research.google.com/assets/colab-badge.svg\" alt=\"Open In Colab\"/></a>"
      ]
    },
    {
      "cell_type": "markdown",
      "metadata": {
        "id": "5GuoRuebjX3v"
      },
      "source": [
        "▶ 5월18일 도전 과제\n",
        "\n",
        "1) 구구단을 2차원 배열로 만드시오. gdan\n",
        "2) int16으로 자료형을 변경하시오.\n",
        " \n",
        "3) 3단에만 50을 더하시오.\n",
        "4) 5단에만 100을 곱하시오.\n",
        "5) 모양을 어떤 형태든 다르게 변경하시오."
      ]
    },
    {
      "cell_type": "code",
      "metadata": {
        "id": "TVS_9ZuCcObG"
      },
      "source": [
        "dan = np.array([i for i in range(1, 10)])"
      ],
      "execution_count": null,
      "outputs": []
    },
    {
      "cell_type": "code",
      "metadata": {
        "colab": {
          "base_uri": "https://localhost:8080/"
        },
        "id": "YR_Kan1KR7Np",
        "outputId": "3b7bddc7-d8f1-4680-ae67-fb8a7217e28b"
      },
      "source": [
        "dan"
      ],
      "execution_count": null,
      "outputs": [
        {
          "output_type": "execute_result",
          "data": {
            "text/plain": [
              "array([1, 2, 3, 4, 5, 6, 7, 8, 9])"
            ]
          },
          "metadata": {
            "tags": []
          },
          "execution_count": 408
        }
      ]
    },
    {
      "cell_type": "code",
      "metadata": {
        "id": "J12pNyS9R7q7"
      },
      "source": [
        "g = [i * dan for i in range(1, 10)]"
      ],
      "execution_count": null,
      "outputs": []
    },
    {
      "cell_type": "code",
      "metadata": {
        "colab": {
          "base_uri": "https://localhost:8080/"
        },
        "id": "pW1VQp2ZSlyg",
        "outputId": "7a62d1ab-3752-4603-aee5-6780d43d0552"
      },
      "source": [
        "g"
      ],
      "execution_count": null,
      "outputs": [
        {
          "output_type": "execute_result",
          "data": {
            "text/plain": [
              "[array([1, 2, 3, 4, 5, 6, 7, 8, 9]),\n",
              " array([ 2,  4,  6,  8, 10, 12, 14, 16, 18]),\n",
              " array([ 3,  6,  9, 12, 15, 18, 21, 24, 27]),\n",
              " array([ 4,  8, 12, 16, 20, 24, 28, 32, 36]),\n",
              " array([ 5, 10, 15, 20, 25, 30, 35, 40, 45]),\n",
              " array([ 6, 12, 18, 24, 30, 36, 42, 48, 54]),\n",
              " array([ 7, 14, 21, 28, 35, 42, 49, 56, 63]),\n",
              " array([ 8, 16, 24, 32, 40, 48, 56, 64, 72]),\n",
              " array([ 9, 18, 27, 36, 45, 54, 63, 72, 81])]"
            ]
          },
          "metadata": {
            "tags": []
          },
          "execution_count": 410
        }
      ]
    },
    {
      "cell_type": "code",
      "metadata": {
        "id": "qc4f49MzTgk3"
      },
      "source": [
        "gdan = np.array([i * dan for i in range(1, 10)], dtype = np.int16)"
      ],
      "execution_count": null,
      "outputs": []
    },
    {
      "cell_type": "code",
      "metadata": {
        "colab": {
          "base_uri": "https://localhost:8080/"
        },
        "id": "4sov166OVHE5",
        "outputId": "f4c75ecb-c519-40ad-f73a-eb049385d3a3"
      },
      "source": [
        "gdan"
      ],
      "execution_count": null,
      "outputs": [
        {
          "output_type": "execute_result",
          "data": {
            "text/plain": [
              "array([[ 1,  2,  3,  4,  5,  6,  7,  8,  9],\n",
              "       [ 2,  4,  6,  8, 10, 12, 14, 16, 18],\n",
              "       [ 3,  6,  9, 12, 15, 18, 21, 24, 27],\n",
              "       [ 4,  8, 12, 16, 20, 24, 28, 32, 36],\n",
              "       [ 5, 10, 15, 20, 25, 30, 35, 40, 45],\n",
              "       [ 6, 12, 18, 24, 30, 36, 42, 48, 54],\n",
              "       [ 7, 14, 21, 28, 35, 42, 49, 56, 63],\n",
              "       [ 8, 16, 24, 32, 40, 48, 56, 64, 72],\n",
              "       [ 9, 18, 27, 36, 45, 54, 63, 72, 81]], dtype=int16)"
            ]
          },
          "metadata": {
            "tags": []
          },
          "execution_count": 412
        }
      ]
    },
    {
      "cell_type": "code",
      "metadata": {
        "colab": {
          "base_uri": "https://localhost:8080/"
        },
        "id": "3QRLQTunVYZr",
        "outputId": "f5fa756f-245b-475a-cf3d-002c802a08a3"
      },
      "source": [
        "gdan[2] + 50"
      ],
      "execution_count": null,
      "outputs": [
        {
          "output_type": "execute_result",
          "data": {
            "text/plain": [
              "array([53, 56, 59, 62, 65, 68, 71, 74, 77], dtype=int16)"
            ]
          },
          "metadata": {
            "tags": []
          },
          "execution_count": 420
        }
      ]
    },
    {
      "cell_type": "code",
      "metadata": {
        "colab": {
          "base_uri": "https://localhost:8080/"
        },
        "id": "tdysF0gQi7wC",
        "outputId": "841cc7c3-d640-4543-9666-68ac18f93204"
      },
      "source": [
        "gdan[4] * 100"
      ],
      "execution_count": null,
      "outputs": [
        {
          "output_type": "execute_result",
          "data": {
            "text/plain": [
              "array([ 500, 1000, 1500, 2000, 2500, 3000, 3500, 4000, 4500], dtype=int16)"
            ]
          },
          "metadata": {
            "tags": []
          },
          "execution_count": 463
        }
      ]
    },
    {
      "cell_type": "code",
      "metadata": {
        "colab": {
          "base_uri": "https://localhost:8080/"
        },
        "id": "qTe1d1TDkQ0g",
        "outputId": "0ff347d5-7edc-4530-aeea-d057d60101c9"
      },
      "source": [
        "gdan.reshape(1, 81)"
      ],
      "execution_count": null,
      "outputs": [
        {
          "output_type": "execute_result",
          "data": {
            "text/plain": [
              "array([[ 1,  2,  3,  4,  5,  6,  7,  8,  9,  2,  4,  6,  8, 10, 12, 14,\n",
              "        16, 18,  3,  6,  9, 12, 15, 18, 21, 24, 27,  4,  8, 12, 16, 20,\n",
              "        24, 28, 32, 36,  5, 10, 15, 20, 25, 30, 35, 40, 45,  6, 12, 18,\n",
              "        24, 30, 36, 42, 48, 54,  7, 14, 21, 28, 35, 42, 49, 56, 63,  8,\n",
              "        16, 24, 32, 40, 48, 56, 64, 72,  9, 18, 27, 36, 45, 54, 63, 72,\n",
              "        81]], dtype=int16)"
            ]
          },
          "metadata": {
            "tags": []
          },
          "execution_count": 467
        }
      ]
    }
  ]
}
